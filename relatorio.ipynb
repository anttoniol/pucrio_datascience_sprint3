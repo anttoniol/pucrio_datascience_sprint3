{
 "cells": [
  {
   "cell_type": "markdown",
   "id": "02d50c03-0054-46e6-bffb-f62dbe7ae7c8",
   "metadata": {},
   "source": [
    "# **PUC-Rio**\n",
    "## **Sprint 3: Relatório**"
   ]
  },
  {
   "cell_type": "markdown",
   "id": "a42cb697-88c1-4f99-9e6f-df94dd804900",
   "metadata": {},
   "source": [
    "### **Objetivo**\n",
    "\n",
    "**Problema**: relação entre cor de pele e infecções/mortes por covid-19 no estado de São Paulo, durante a pandemia\n",
    "\n",
    "**Perguntas**:\n",
    "1. O covid-19 acometeu mais pessoas afrodescendentes ou pessoas brancas?\n",
    "2. Dentre as pessoas afrodescendentes, qual gênero foi mais acometido?\n",
    "3. Dentre as pessoas brancas, qual gênero foi mais acometido?"
   ]
  },
  {
   "cell_type": "markdown",
   "id": "41bd31a5-e3a6-48aa-ad62-bd28893c6e82",
   "metadata": {},
   "source": [
    "### **Detalhamento**\n",
    "\n",
    "**1. Busca pelos dados**\n",
    "\n",
    "Os dados utilizados foram os da Fundação SEADE, disponíveis em: https://github.com/seade-R/dados-covid-sp#casos-%C3%B3bitos-por-ra%C3%A7acor-e-munic%C3%ADpio\n",
    "O dicionário dos dados está disponível em: https://github.com/seade-R/dados-covid-sp#casos-%C3%B3bitos-por-ra%C3%A7acor-e-munic%C3%ADpio-1\n",
    "\n",
    "**2. Coleta**\n",
    "\n",
    "Os dados da Fundação SEADE estão disponibilizados em arquivos com formato .csv. Assim, foi necessário ler o arquivo .csv e enviar o conteúdo do arquivo para a nuvem.\n",
    "\n",
    "\n"
   ]
  },
  {
   "cell_type": "code",
   "execution_count": null,
   "id": "3fe3f73e-21d4-44b7-9e86-1c87d43d74b9",
   "metadata": {},
   "outputs": [],
   "source": []
  }
 ],
 "metadata": {
  "kernelspec": {
   "display_name": "Python 3 (ipykernel)",
   "language": "python",
   "name": "python3"
  },
  "language_info": {
   "codemirror_mode": {
    "name": "ipython",
    "version": 3
   },
   "file_extension": ".py",
   "mimetype": "text/x-python",
   "name": "python",
   "nbconvert_exporter": "python",
   "pygments_lexer": "ipython3",
   "version": "3.9.13"
  }
 },
 "nbformat": 4,
 "nbformat_minor": 5
}
